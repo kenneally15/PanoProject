{
 "metadata": {
  "language_info": {
   "codemirror_mode": {
    "name": "ipython",
    "version": 3
   },
   "file_extension": ".py",
   "mimetype": "text/x-python",
   "name": "python",
   "nbconvert_exporter": "python",
   "pygments_lexer": "ipython3",
   "version": "3.6.5-final"
  },
  "orig_nbformat": 2,
  "kernelspec": {
   "name": "python3",
   "display_name": "Python 3.6.5 64-bit",
   "metadata": {
    "interpreter": {
     "hash": "05ece30799c2dcdac4c13b3af20453da19de8df0d9a1de52cff7e0b6e1e82bdd"
    }
   }
  }
 },
 "nbformat": 4,
 "nbformat_minor": 2,
 "cells": [
  {
   "cell_type": "code",
   "execution_count": null,
   "metadata": {},
   "outputs": [],
   "source": [
    "def add(x,y):\n",
    "    print(\"x=\",x,\"y=\",y,\"x+y=\",x+y)\n",
    "    return x + y\n",
    "\n",
    "def distribute(x,y,z):\n",
    "    print(\"x=\",x,\"y=\",y,\"z=\",z)\n",
    "    product = z * add(x,y)\n",
    "    print(\"product=\",product)\n",
    "    return product\n",
    "\n",
    "print(\"hello world\")\n",
    "tot = add(100,5)\n",
    "product = distribute(5,10,3)\n",
    "print((tot+product))\n",
    "\n",
    "\n"
   ]
  },
  {
   "cell_type": "code",
   "execution_count": null,
   "metadata": {},
   "outputs": [],
   "source": [
    "distribute(5,4,34)\n",
    "add(66,33)"
   ]
  },
  {
   "cell_type": "code",
   "execution_count": null,
   "metadata": {},
   "outputs": [],
   "source": [
    "add(8,9)"
   ]
  }
 ]
}